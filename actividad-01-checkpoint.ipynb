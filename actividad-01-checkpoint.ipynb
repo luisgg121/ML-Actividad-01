{
 "cells": [
  {
   "cell_type": "code",
   "execution_count": 1,
   "id": "45c9e20a",
   "metadata": {},
   "outputs": [],
   "source": [
    "# Lo primero es importar la librería numpy que es una librería que nos permite el manejo de arreglos y matrices \n",
    "import numpy as np\n"
   ]
  },
  {
   "cell_type": "code",
   "execution_count": 2,
   "id": "438a9649",
   "metadata": {},
   "outputs": [
    {
     "name": "stdout",
     "output_type": "stream",
     "text": [
      "[[ 1  9  8 -4]\n",
      " [ 2  3  1  2]\n",
      " [ 8  1 -4  6]\n",
      " [-3  2 -3  1]]\n"
     ]
    }
   ],
   "source": [
    "# Ahora generamos una matriz de 4x4 elementos\n",
    "M = np.array([[1, 9, 8, -4],\n",
    "              [2, 3, 1, 2],\n",
    "              [8, 1, -4, 6],\n",
    "              [-3, 2, -3, 1]])\n",
    "print(M)\n"
   ]
  },
  {
   "cell_type": "code",
   "execution_count": 5,
   "id": "2587391a",
   "metadata": {},
   "outputs": [
    {
     "name": "stdout",
     "output_type": "stream",
     "text": [
      "Matriz inversa de M:\n",
      "[[ 0.08456376 -0.26040268  0.15436242 -0.06711409]\n",
      " [ 0.09395973 -0.06711409  0.06040268  0.14765101]\n",
      " [-0.08322148  0.43087248 -0.16778523 -0.18791946]\n",
      " [-0.18389262  0.64563758 -0.16107383 -0.06040268]]\n",
      "M × M_inv redondeado a 1 decimal:\n",
      "[[ 1.  0.  0.  0.]\n",
      " [-0.  1. -0. -0.]\n",
      " [ 0.  0.  1.  0.]\n",
      " [-0.  0.  0.  1.]]\n"
     ]
    }
   ],
   "source": [
    "# Calculamos su matriz inversa:\n",
    "try:\n",
    "    M_inv = np.linalg.inv(M)\n",
    "    print(\"Matriz inversa de M:\")\n",
    "    print(M_inv)\n",
    "except np.linalg.LinAlgError:\n",
    "    print(\"La matriz M no es invertible.\")\n",
    "    \n",
    "# Para comprobar que efectivamente es la matriz inversa, multiplicamos M x M_inv y debe dar como resultado una matriz unitaria\n",
    "producto = np.dot(M, M_inv)\n",
    "# redondeamos cada elemento\n",
    "producto_redondeado = np.round(producto, 2)\n",
    "print(\"M × M_inv redondeado a 1 decimal:\")\n",
    "print(producto_redondeado)\n"
   ]
  },
  {
   "cell_type": "code",
   "execution_count": 8,
   "id": "ca1b69aa",
   "metadata": {},
   "outputs": [
    {
     "name": "stdout",
     "output_type": "stream",
     "text": [
      "Matriz M:\n",
      "[[ 1  9  8 -4]\n",
      " [ 2  3  1  2]\n",
      " [ 8  1 -4  6]\n",
      " [-3  2 -3  1]] \n",
      "\n",
      "Matriz traspuesta de M:\n",
      "[[ 1  2  8 -3]\n",
      " [ 9  3  1  2]\n",
      " [ 8  1 -4 -3]\n",
      " [-4  2  6  1]]\n"
     ]
    }
   ],
   "source": [
    "# Ahora calculamos la matriz traspuesta de M\n",
    "M_T = M.T\n",
    "print(\"Matriz M:\")\n",
    "print(M,\"\\n\")\n",
    "print(\"Matriz traspuesta de M:\")\n",
    "print(M_T)"
   ]
  },
  {
   "cell_type": "code",
   "execution_count": 9,
   "id": "b2897647",
   "metadata": {},
   "outputs": [
    {
     "name": "stdout",
     "output_type": "stream",
     "text": [
      "Matriz M multiplicada por el escalar 3:\n",
      "\n",
      "[[  3  27  24 -12]\n",
      " [  6   9   3   6]\n",
      " [ 24   3 -12  18]\n",
      " [ -9   6  -9   3]]\n"
     ]
    }
   ],
   "source": [
    "# Multiplicamos la matriz M por un escalar.\n",
    "# Definimos el escalar\n",
    "escalar = 3\n",
    "\n",
    "# Multiplicamos la matriz M por el escalar\n",
    "M_escalada = escalar * M\n",
    "\n",
    "# Mostramos el resultado\n",
    "print(f\"Matriz M multiplicada por el escalar {escalar}:\\n\")\n",
    "print(M_escalada)\n"
   ]
  },
  {
   "cell_type": "code",
   "execution_count": 11,
   "id": "3115f8f5",
   "metadata": {},
   "outputs": [
    {
     "name": "stdout",
     "output_type": "stream",
     "text": [
      "Producto interno M × N:\n",
      "\n",
      "[[ 21 -11]\n",
      " [  2   8]\n",
      " [ -6  23]\n",
      " [-10   8]]\n"
     ]
    }
   ],
   "source": [
    "# Realiza el producto interno con una nueva matriz de dimensiones 4x2.\n",
    "# Matriz M ya definida\n",
    "M = np.array([[1, 9, 8, -4],\n",
    "              [2, 3, 1, 2],\n",
    "              [8, 1, -4, 6],\n",
    "              [-3, 2, -3, 1]])\n",
    "\n",
    "# Nueva matriz N de dimensiones 4x2\n",
    "N = np.array([[1, 0],\n",
    "              [0, 1],\n",
    "              [2, -1],\n",
    "              [-1, 3]])\n",
    "\n",
    "# Producto interno: M (4x4) × N (4x2)\n",
    "producto = np.dot(M, N)\n",
    "\n",
    "# Mostrar resultado, tiene que ser una matriz de de 4x2\n",
    "print(\"Producto interno M × N:\\n\")\n",
    "print(producto)"
   ]
  },
  {
   "cell_type": "code",
   "execution_count": 24,
   "id": "5472d81e",
   "metadata": {},
   "outputs": [
    {
     "name": "stdout",
     "output_type": "stream",
     "text": [
      "x = -57.7\n",
      "y = 41.32\n",
      "z = -22.67\n",
      "w = -27.35\n"
     ]
    }
   ],
   "source": [
    "# 3.a\n",
    "# El sistema de ecuaciones lo podemos representar como MxV =I\n",
    "# Entonces M = V-1x I\n",
    "\n",
    "# Matriz de coeficientes\n",
    "M = np.array([[1, 2, 5, -4],\n",
    "              [5, 8, 1, 1],\n",
    "              [5, 7, -3, 2],\n",
    "              [-1, 3, 9, -1]])\n",
    "\n",
    "# Vector de resultados\n",
    "b = np.array([21, -8, 14, 5])\n",
    "\n",
    "# Resolver el sistema\n",
    "solucion = np.linalg.solve(M, b)\n",
    "\n",
    "# Mostrar resultados redondeados\n",
    "variables = ['x', 'y', 'z', 'w']\n",
    "for var, val in zip(variables, solucion.tolist()):\n",
    "    print(f\"{var} = {round(val, 2)}\")"
   ]
  },
  {
   "cell_type": "code",
   "execution_count": 28,
   "id": "ce335d01",
   "metadata": {},
   "outputs": [
    {
     "name": "stdout",
     "output_type": "stream",
     "text": [
      "[[21.]\n",
      " [-8.]\n",
      " [14.]\n",
      " [ 5.]]\n"
     ]
    }
   ],
   "source": [
    "# Comprobación Mx[55,60,17,118] debe dar [21, -8, 14, 5]\n",
    "M = np.array([\n",
    "                [1,2,5,-4],\n",
    "                [5,8,1,1],\n",
    "                [5,7,-3,2],\n",
    "                [1,3,9,-1]\n",
    "                ])\n",
    "\n",
    "producto = np.dot(M_inv, [[55], [60], [17], [118]])\n",
    "\n",
    "print(producto)\n"
   ]
  },
  {
   "cell_type": "code",
   "execution_count": 38,
   "id": "15789544",
   "metadata": {},
   "outputs": [
    {
     "name": "stdout",
     "output_type": "stream",
     "text": [
      "x = -3.24\n",
      "y = 8.96\n",
      "z = 3.56\n"
     ]
    }
   ],
   "source": [
    "# 3.b\n",
    "M = np.array([\n",
    "             [6,0,8],\n",
    "             [2,2,1],\n",
    "             [4,1,0]\n",
    "             ])\n",
    "# Vector de resultados\n",
    "b = np.array([9,15,-4])\n",
    "\n",
    "# Resolver el sistema\n",
    "solucion = np.linalg.solve(M, b)\n",
    "\n",
    "# Mostrar resultados redondeados\n",
    "variables = ['x', 'y', 'z']\n",
    "for var, val in zip(variables, solucion.tolist()):\n",
    "    print(f\"{var} = {round(val, 2)}\")"
   ]
  },
  {
   "cell_type": "code",
   "execution_count": 40,
   "id": "fa371898",
   "metadata": {},
   "outputs": [
    {
     "name": "stdout",
     "output_type": "stream",
     "text": [
      "[[ 9.04]\n",
      " [15.  ]\n",
      " [-4.  ]]\n"
     ]
    }
   ],
   "source": [
    "# Comprobación \n",
    "producto = np.dot(M, [[-3.24], [8.96], [3.56]])\n",
    "\n",
    "print(producto)\n"
   ]
  },
  {
   "cell_type": "code",
   "execution_count": null,
   "id": "110255c2",
   "metadata": {},
   "outputs": [],
   "source": []
  }
 ],
 "metadata": {
  "kernelspec": {
   "display_name": "Python 3 (ipykernel)",
   "language": "python",
   "name": "python3"
  },
  "language_info": {
   "codemirror_mode": {
    "name": "ipython",
    "version": 3
   },
   "file_extension": ".py",
   "mimetype": "text/x-python",
   "name": "python",
   "nbconvert_exporter": "python",
   "pygments_lexer": "ipython3",
   "version": "3.11.5"
  }
 },
 "nbformat": 4,
 "nbformat_minor": 5
}
